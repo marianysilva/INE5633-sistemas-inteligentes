{
 "cells": [
  {
   "cell_type": "code",
   "execution_count": 2,
   "id": "272fa2e7",
   "metadata": {},
   "outputs": [
    {
     "data": {
      "text/plain": [
       "[2, 4, 6]"
      ]
     },
     "execution_count": 2,
     "metadata": {},
     "output_type": "execute_result"
    }
   ],
   "source": [
    "# Main code\n",
    "\n",
    "from workspace.example import double_array\n",
    "\n",
    "double_array([1, 2, 3])"
   ]
  },
  {
   "cell_type": "code",
   "execution_count": 8,
   "id": "63cf9a47",
   "metadata": {},
   "outputs": [],
   "source": [
    "# To see the function documentation\n",
    "double_array?"
   ]
  },
  {
   "cell_type": "code",
   "execution_count": 9,
   "id": "d572be2a",
   "metadata": {},
   "outputs": [],
   "source": [
    "#  To see the function implementation\n",
    "double_array??"
   ]
  }
 ],
 "metadata": {
  "kernelspec": {
   "display_name": "Python 3",
   "language": "python",
   "name": "python3"
  },
  "language_info": {
   "codemirror_mode": {
    "name": "ipython",
    "version": 3
   },
   "file_extension": ".py",
   "mimetype": "text/x-python",
   "name": "python",
   "nbconvert_exporter": "python",
   "pygments_lexer": "ipython3",
   "version": "3.6.9"
  }
 },
 "nbformat": 4,
 "nbformat_minor": 5
}
