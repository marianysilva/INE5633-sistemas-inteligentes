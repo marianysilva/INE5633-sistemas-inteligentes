{
 "cells": [
  {
   "cell_type": "code",
   "execution_count": null,
   "id": "0f120561",
   "metadata": {},
   "outputs": [],
   "source": [
    "'''\n",
    "GAME\n",
    "--------------------------------------------------------------------------------\n",
    "An 8 puzzle is a simple game consisting of a 3 x 3 grid (containing 9 squares).\n",
    "One of the squares is empty. The object is to move to squares around into\n",
    "different positions and having the numbers displayed in the \"goal state\".The\n",
    "input below can be thought of as an unsolved initial state of the \"3 x 3\"\n",
    "8 puzzle.\n",
    "\n",
    "EXAMPLE\n",
    "\n",
    "INPUT = [           GOAL = [\n",
    "    1, 2, 3,            1, 2, 3,\n",
    "    4, 5, 6,            4, 5, 6,\n",
    "    None, 7, 8          7, 8, None\n",
    "]                   ]\n",
    "\n",
    "================================================================================\n",
    "MOVIMENTS\n",
    "--------------------------------------------------------------------------------\n",
    "Below we have all the possibilities of movement on the board\n",
    "\n",
    "FROM     = Position where the piece is on the board\n",
    "MOVEMENT = All the moves you can do with the piece\n",
    "TO       = Positions where the piece will be on the board after the chosen move\n",
    "\n",
    "\n",
    "FROM            0                 1                     2\n",
    "MOVEMENT    down right      left down right         left down\n",
    "TO            3    1          0    4    2             1    5\n",
    "\n",
    "\n",
    "FROM             3                 4                    5\n",
    "MOVEMENT    up down right   left up down right     left up down\n",
    "TO           0   6   4       3   1   7    5         4   2   8\n",
    "\n",
    "\n",
    "FROM            6                  7                     8\n",
    "MOVEMENT    up right         left up right           left up\n",
    "TO           3   7             6   4   8               7   5              \n",
    "\n",
    "\n",
    "left  = position - 1\n",
    "right = position + 1\n",
    "up    = position - 3\n",
    "down  = position + 3\n",
    "================================================================================\n",
    "A* Algorithm\n",
    "--------------------------------------------------------------------------------\n",
    "\n",
    "COMPLEX HEURISTIC\n",
    "\n",
    "To optimize our search algorithm, we will use the following heuristic in the\n",
    "cost calculation: How many steps each piece is in the correct position (goal)?\n",
    "\n",
    "- We need to store visited nodes (VISITED)\n",
    "- We need to store all generated child nodes that have not been\n",
    "visited (POSSIBILITIES)\n",
    "- We need to store the path taken to arrive at each node (PATH)\n",
    "\n",
    "- Only None piece can be moved following the move rules\n",
    "- None must be ignored in the cost sum\n",
    "- We will choose the node with the minimum cost considering the possibilities.\n",
    "\n",
    "Back to our EXAMPLE, let's run our algorithm one time to undestand how it works\n",
    "\n",
    "UP_MOVEMENT = [     RIGHT_MOVIMENT = [\n",
    "    1, 2, 3,            1, 2, 3, \n",
    "    None, 5, 6,         4, 5, 6,\n",
    "    4, 7, 8             7, None, 8\n",
    "]                   ]\n",
    "\n",
    "UP_COST =           RIGHT_COST =\n",
    "    0 + 0 + 0           0 + 0 + 0\n",
    "    None + 0 + 0 = 3    0 + 0 + 0     = 1\n",
    "    1 + 1 + 1           0 + None + 1\n",
    "\n",
    "So, for this EXAMPLE, in the first iteration of our algorithm, we will choose\n",
    "the RIGHT_MOVEMENT node, cost = 1, and we will run the algorithm again, using\n",
    "the RIGHT_MOVEMENT as our current INPUT updating our variables every iteration\n",
    "until we reach the solution node.\n",
    "'''"
   ]
  },
  {
   "cell_type": "code",
   "execution_count": 1,
   "id": "f1b7ce56",
   "metadata": {},
   "outputs": [],
   "source": [
    "from workspace.input_output import algorithm_input, board_input, print_board, print_result\n",
    "from workspace.engine import search_solution"
   ]
  },
  {
   "cell_type": "code",
   "execution_count": 2,
   "id": "07900460",
   "metadata": {},
   "outputs": [
    {
     "name": "stdout",
     "output_type": "stream",
     "text": [
      "\n",
      "    HELLO USER\n",
      "    \n",
      "    LET'S START OUR 8 PUZZLE GAME\n",
      "\n",
      "    FIRST CHOOSE THE ALGORITHM STRATEGY:\n",
      "\n",
      "        1 - Uniform Cost (Amplitude)    2 - Uniform Cost (Depth)\n",
      "        3 - Simple Heuristic            4 - Complex Heuristic\n",
      "\n",
      "    THEN INPUT THE INITIAL STATE OF YOUR BOARD, OPTIONS:\n",
      "\n",
      "        1 2 3 4 5 6 7 8 None\n",
      "\n"
     ]
    }
   ],
   "source": [
    "print('''\n",
    "    HELLO USER\n",
    "    \n",
    "    LET'S START OUR 8 PUZZLE GAME\n",
    "\n",
    "    FIRST CHOOSE THE ALGORITHM STRATEGY:\n",
    "\n",
    "        1 - Uniform Cost (Amplitude)    2 - Uniform Cost (Depth)\n",
    "        3 - Simple Heuristic            4 - Complex Heuristic\n",
    "\n",
    "    THEN INPUT THE INITIAL STATE OF YOUR BOARD, OPTIONS:\n",
    "\n",
    "        1 2 3 4 5 6 7 8 None\n",
    "''')"
   ]
  },
  {
   "cell_type": "code",
   "execution_count": 3,
   "id": "e9a5617f",
   "metadata": {},
   "outputs": [
    {
     "name": "stdout",
     "output_type": "stream",
     "text": [
      "ENTER THE NUMBER OF THE ALGORITHM: 1\n"
     ]
    }
   ],
   "source": [
    "algorithm = algorithm_input()"
   ]
  },
  {
   "cell_type": "code",
   "execution_count": 4,
   "id": "eb31cc14",
   "metadata": {},
   "outputs": [
    {
     "name": "stdout",
     "output_type": "stream",
     "text": [
      "ENTER 1º NUMBER OR NONE: 1\n",
      "ENTER 2º NUMBER OR NONE: 2\n",
      "ENTER 3º NUMBER OR NONE: 3\n",
      "ENTER 4º NUMBER OR NONE: 4\n",
      "ENTER 5º NUMBER OR NONE: 5\n",
      "ENTER 6º NUMBER OR NONE: 6\n",
      "ENTER 7º NUMBER OR NONE: None\n",
      "ENTER 8º NUMBER OR NONE: 7\n",
      "ENTER 9º NUMBER OR NONE: 8\n"
     ]
    }
   ],
   "source": [
    "initial_board = board_input()"
   ]
  },
  {
   "cell_type": "code",
   "execution_count": 5,
   "id": "b27d1e3d",
   "metadata": {},
   "outputs": [
    {
     "name": "stdout",
     "output_type": "stream",
     "text": [
      "\n",
      "THE INITIAL STATE OF YOUR BOARD IS:\n",
      "1 2 3\n",
      "4 5 6\n",
      "None 7 8\n"
     ]
    }
   ],
   "source": [
    "print('\\nTHE INITIAL STATE OF YOUR BOARD IS:')\n",
    "print_board(initial_board)"
   ]
  },
  {
   "cell_type": "code",
   "execution_count": 6,
   "id": "2af2ca53",
   "metadata": {},
   "outputs": [
    {
     "name": "stdout",
     "output_type": "stream",
     "text": [
      "--------------------- RUNNING THE ALGORITHM ---------------------\n",
      "------------------------------ END ------------------------------\n"
     ]
    }
   ],
   "source": [
    "print('--------------------- RUNNING THE ALGORITHM ---------------------')\n",
    "number_of_nodes, visited, possibilities, current_node = search_solution(algorithm, initial_board)\n",
    "print('------------------------------ END ------------------------------')"
   ]
  },
  {
   "cell_type": "code",
   "execution_count": 7,
   "id": "d460c778",
   "metadata": {},
   "outputs": [
    {
     "name": "stdout",
     "output_type": "stream",
     "text": [
      "NODES: 7\n",
      "VISITED: 5\n",
      "OPEN POSSIBILITIES: 2 \n",
      "\n",
      "\n",
      "NODE NUMBER:  0\n",
      "BOARD:\n",
      "1 2 3\n",
      "4 5 6\n",
      "None 7 8\n",
      "\n",
      "\n",
      "\n",
      "NODE NUMBER:  2\n",
      "BOARD:\n",
      "1 2 3\n",
      "4 5 6\n",
      "7 None 8\n",
      "\n",
      "\n",
      "\n",
      "NODE NUMBER:  5\n",
      "BOARD:\n",
      "1 2 3\n",
      "4 5 6\n",
      "7 8 None\n",
      "\n",
      "\n",
      "\n"
     ]
    }
   ],
   "source": [
    "print_result(number_of_nodes, visited, possibilities, current_node)"
   ]
  },
  {
   "cell_type": "code",
   "execution_count": null,
   "id": "f2dda04f",
   "metadata": {},
   "outputs": [],
   "source": []
  }
 ],
 "metadata": {
  "interpreter": {
   "hash": "31f2aee4e71d21fbe5cf8b01ff0e069b9275f58929596ceb00d14d90e3e16cd6"
  },
  "kernelspec": {
   "display_name": "Python 3",
   "language": "python",
   "name": "python3"
  },
  "language_info": {
   "codemirror_mode": {
    "name": "ipython",
    "version": 3
   },
   "file_extension": ".py",
   "mimetype": "text/x-python",
   "name": "python",
   "nbconvert_exporter": "python",
   "pygments_lexer": "ipython3",
   "version": "3.9.10"
  }
 },
 "nbformat": 4,
 "nbformat_minor": 5
}
