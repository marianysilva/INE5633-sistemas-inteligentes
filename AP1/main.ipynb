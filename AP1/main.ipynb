{
 "cells": [
  {
   "cell_type": "code",
   "execution_count": 2,
   "id": "272fa2e7",
   "metadata": {},
   "outputs": [
    {
     "data": {
      "text/plain": [
       "[2, 4, 6]"
      ]
     },
     "execution_count": 2,
     "metadata": {},
     "output_type": "execute_result"
    }
   ],
   "source": [
    "# Main code\n",
    "\n",
    "from workspace.example import double_array\n",
    "\n",
    "double_array([1, 2, 3])"
   ]
  },
  {
   "cell_type": "code",
   "execution_count": 8,
   "id": "63cf9a47",
   "metadata": {},
   "outputs": [],
   "source": [
    "# To see the function documentation\n",
    "double_array?"
   ]
  },
  {
   "cell_type": "code",
   "execution_count": 9,
   "id": "d572be2a",
   "metadata": {},
   "outputs": [],
   "source": [
    "#  To see the function implementation\n",
    "double_array??"
   ]
  },
  {
   "cell_type": "code",
   "execution_count": 9,
   "id": "6adf8141",
   "metadata": {},
   "outputs": [
    {
     "data": {
      "image/png": "[encoded data removed]",
      "text/plain": [
       "<Figure size 432x288 with 1 Axes>"
      ]
     },
     "metadata": {},
     "output_type": "display_data"
    }
   ],
   "source": [
    "# Graph network example\n",
    "\n",
    "import networkx as nx\n",
    "import matplotlib.pyplot as plt\n",
    "\n",
    "\n",
    "graph = nx.DiGraph()\n",
    "graph.add_node(1)\n",
    "graph.add_node(2)\n",
    "graph.add_node(3)\n",
    "graph.add_node(4)\n",
    "graph.add_node(5)\n",
    "\n",
    "graph.add_edge(1, 2)\n",
    "graph.add_edge(1, 3)\n",
    "graph.add_edge(2, 4)\n",
    "graph.add_edge(2, 5)\n",
    "\n",
    "plot = plt.subplot(121)\n",
    "nx.draw(graph, with_labels=True, font_weight='bold')"
   ]
  },
  {
   "cell_type": "code",
   "execution_count": null,
   "id": "804bea5e",
   "metadata": {},
   "outputs": [],
   "source": []
  }
 ],
 "metadata": {
  "kernelspec": {
   "display_name": "Python 3",
   "language": "python",
   "name": "python3"
  },
  "language_info": {
   "codemirror_mode": {
    "name": "ipython",
    "version": 3
   },
   "file_extension": ".py",
   "mimetype": "text/x-python",
   "name": "python",
   "nbconvert_exporter": "python",
   "pygments_lexer": "ipython3",
   "version": "3.6.9"
  }
 },
 "nbformat": 4,
 "nbformat_minor": 5
}
