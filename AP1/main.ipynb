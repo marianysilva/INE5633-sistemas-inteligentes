{
 "cells": [
  {
   "cell_type": "code",
   "execution_count": 3,
   "id": "272fa2e7",
   "metadata": {},
   "outputs": [
    {
     "data": {
      "text/plain": [
       "[2, 4, 6]"
      ]
     },
     "execution_count": 3,
     "metadata": {},
     "output_type": "execute_result"
    }
   ],
   "source": [
    "# Main code\n",
    "\n",
    "# Examples\n",
    "# https://github.sre.pub/topics/8-puzzle-solver?o=desc&s=forks\n",
    "# https://github.sre.pub/dgurkaynak/8-puzzle-solver/tree/master/src\n",
    "\n",
    "from workspace.example import double_array\n",
    "\n",
    "'''\n",
    "moviments = [\n",
    "      right, down       left, down, right         left, down\n",
    "    right, up, down   left, up, down, right     left, up, down\n",
    "       right, up         left, up, right           left, up\n",
    "]\n",
    "\n",
    "input = [           node_a = [              goal = [\n",
    "    1, 2, 3,            1, 2, 3,                1, 2, 3,\n",
    "    4, 5, 6,            4, 5, 6,                4, 5, 6,\n",
    "    None, 7, 8          7, None, 8              7, 8, None\n",
    "]                   ]                       ]\n",
    "\n",
    "Calculo do custo = quantas casas cada peça está do objetivo:\n",
    "\n",
    "input =             node_a =                goal = \n",
    "    0 + 0 + 0           0 + 0 + 0               0 + 0 + 0\n",
    "    0 + 0 + 0  = 2      0 + 0 + 0 = 1           0 + 0 + 0 = 0\n",
    "    None + 1 + 1        0 + None + 1            0 + 0 + None\n",
    "\n",
    "\n",
    "Só None pode ser movido seguindo as regras de movimentações (moviments)\n",
    "\n",
    "'''\n",
    "\n",
    "double_array([1, 2, 3])"
   ]
  },
  {
   "cell_type": "code",
   "execution_count": 8,
   "id": "63cf9a47",
   "metadata": {},
   "outputs": [],
   "source": [
    "# To see the function documentation\n",
    "double_array?"
   ]
  },
  {
   "cell_type": "code",
   "execution_count": 9,
   "id": "d572be2a",
   "metadata": {},
   "outputs": [],
   "source": [
    "#  To see the function implementation\n",
    "double_array??"
   ]
  }
 ],
 "metadata": {
  "interpreter": {
   "hash": "31f2aee4e71d21fbe5cf8b01ff0e069b9275f58929596ceb00d14d90e3e16cd6"
  },
  "kernelspec": {
   "display_name": "Python 3.6.9 64-bit",
   "language": "python",
   "name": "python3"
  },
  "language_info": {
   "codemirror_mode": {
    "name": "ipython",
    "version": 3
   },
   "file_extension": ".py",
   "mimetype": "text/x-python",
   "name": "python",
   "nbconvert_exporter": "python",
   "pygments_lexer": "ipython3",
   "version": "3.6.9"
  }
 },
 "nbformat": 4,
 "nbformat_minor": 5
}
